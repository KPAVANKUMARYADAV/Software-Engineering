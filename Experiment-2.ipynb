{
  "nbformat": 4,
  "nbformat_minor": 0,
  "metadata": {
    "colab": {
      "provenance": [],
      "toc_visible": true,
      "authorship_tag": "ABX9TyO9sJ2gxdlA7G2zgxMNt2eo",
      "include_colab_link": true
    },
    "kernelspec": {
      "name": "python3",
      "display_name": "Python 3"
    },
    "language_info": {
      "name": "python"
    }
  },
  "cells": [
    {
      "cell_type": "markdown",
      "metadata": {
        "id": "view-in-github",
        "colab_type": "text"
      },
      "source": [
        "<a href=\"https://colab.research.google.com/github/KPAVANKUMARYADAV/Software-Engineering/blob/main/Experiment-2.ipynb\" target=\"_parent\"><img src=\"https://colab.research.google.com/assets/colab-badge.svg\" alt=\"Open In Colab\"/></a>"
      ]
    },
    {
      "cell_type": "code",
      "execution_count": 3,
      "metadata": {
        "colab": {
          "base_uri": "https://localhost:8080/"
        },
        "id": "bwUaKeM-ok9Q",
        "outputId": "0d9417a2-a55e-4731-c05d-b13825619f87"
      },
      "outputs": [
        {
          "output_type": "stream",
          "name": "stdout",
          "text": [
            "Enter temperature (°C): 24\n",
            "Enter humidity (%): 3\n",
            "Enter wind speed (km/h): 12\n",
            "Predicted Weather: Sunny\n"
          ]
        }
      ],
      "source": [
        "def predict_weather(temperature, humidity, wind_speed):\n",
        "\n",
        "    if wind_speed > 50:\n",
        "        return \"Stormy\"\n",
        "    elif humidity > 80:\n",
        "        return \"Rainy\"\n",
        "    elif humidity > 50 or temperature < 20:\n",
        "        return \"Cloudy\"\n",
        "    else:\n",
        "        return \"Sunny\"\n",
        "\n",
        "if __name__ == \"__main__\":\n",
        "\n",
        "    temp = float(input(\"Enter temperature (°C): \"))\n",
        "    hum = float(input(\"Enter humidity (%): \"))\n",
        "    wind = float(input(\"Enter wind speed (km/h): \"))\n",
        "    weather = predict_weather(temp, hum, wind)\n",
        "    print(f\"Predicted Weather: {weather}\")\n"
      ]
    }
  ]
}