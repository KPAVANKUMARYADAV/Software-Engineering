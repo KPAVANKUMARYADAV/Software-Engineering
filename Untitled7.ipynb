{
  "nbformat": 4,
  "nbformat_minor": 0,
  "metadata": {
    "colab": {
      "provenance": [],
      "authorship_tag": "ABX9TyMkwPe2XYlygrp/NmQ9wI48",
      "include_colab_link": true
    },
    "kernelspec": {
      "name": "python3",
      "display_name": "Python 3"
    },
    "language_info": {
      "name": "python"
    }
  },
  "cells": [
    {
      "cell_type": "markdown",
      "metadata": {
        "id": "view-in-github",
        "colab_type": "text"
      },
      "source": [
        "<a href=\"https://colab.research.google.com/github/KPAVANKUMARYADAV/Software-Engineering/blob/main/Untitled7.ipynb\" target=\"_parent\"><img src=\"https://colab.research.google.com/assets/colab-badge.svg\" alt=\"Open In Colab\"/></a>"
      ]
    },
    {
      "cell_type": "code",
      "execution_count": null,
      "metadata": {
        "colab": {
          "base_uri": "https://localhost:8080/"
        },
        "id": "HWYyfpZijXKU",
        "outputId": "b0a9801c-97ee-4d4f-afeb-aa8e5f82db10"
      },
      "outputs": [
        {
          "output_type": "stream",
          "name": "stdout",
          "text": [
            "the sum of 12 and 22 is 34\n"
          ]
        }
      ],
      "source": [
        "a=12\n",
        "c=22\n",
        "b=a+c\n",
        "print(\"the sum of\",a,\"and\",c,\"is\",b)"
      ]
    }
  ]
}