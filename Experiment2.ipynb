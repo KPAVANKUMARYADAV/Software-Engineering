{
  "nbformat": 4,
  "nbformat_minor": 0,
  "metadata": {
    "colab": {
      "provenance": [],
      "authorship_tag": "ABX9TyNxZBeRDdtO9NPCuElaNKVc",
      "include_colab_link": true
    },
    "kernelspec": {
      "name": "python3",
      "display_name": "Python 3"
    },
    "language_info": {
      "name": "python"
    }
  },
  "cells": [
    {
      "cell_type": "markdown",
      "metadata": {
        "id": "view-in-github",
        "colab_type": "text"
      },
      "source": [
        "<a href=\"https://colab.research.google.com/github/KPAVANKUMARYADAV/Software-Engineering/blob/main/Experiment2.ipynb\" target=\"_parent\"><img src=\"https://colab.research.google.com/assets/colab-badge.svg\" alt=\"Open In Colab\"/></a>"
      ]
    },
    {
      "cell_type": "code",
      "execution_count": 1,
      "metadata": {
        "colab": {
          "base_uri": "https://localhost:8080/"
        },
        "id": "iIvLhvTyp3CF",
        "outputId": "541e7b4b-fd98-42e1-b64c-3eb75b244d30"
      },
      "outputs": [
        {
          "output_type": "stream",
          "name": "stdout",
          "text": [
            "Enter location (city, country): india\n",
            "Enter temperature (°C): 12\n",
            "Enter humidity (%): 10\n",
            "Enter wind speed (km/h): 5\n",
            "Predicted weather: Stormy\n"
          ]
        }
      ],
      "source": [
        "#hard coding varibles\n",
        "import math\n",
        "def get_weather_data():\n",
        "    location = input(\"Enter location (city, country): \")\n",
        "    temperature = float(input(\"Enter temperature (°C): \"))\n",
        "    humidity = float(input(\"Enter humidity (%): \"))\n",
        "    wind_speed = float(input(\"Enter wind speed (km/h): \"))\n",
        "    return location, temperature, humidity, wind_speed\n",
        "\n",
        "def preprocess_data(temperature, humidity, wind_speed):\n",
        "    if temperature < -30 or temperature > 50:\n",
        "        raise ValueError(\"Temperature out of range.\")\n",
        "    if humidity < 0 or humidity > 100:\n",
        "        raise ValueError(\"Humidity out of range.\")\n",
        "    if wind_speed < 0:\n",
        "        raise ValueError(\"Wind speed cannot be negative.\")\n",
        "    return temperature, humidity, wind_speed\n",
        "\n",
        "def model_processor(temperature, humidity, wind_speed):\n",
        "    W = 0.5 * temperature**2 - 0.2 * humidity + 0.1 * wind_speed - 15\n",
        "    return W\n",
        "def prediction_engine(W):\n",
        "    if W < 10:\n",
        "        return \"Sunny\"\n",
        "    elif 10 <= W < 20:\n",
        "        return \"Cloudy\"\n",
        "    elif 20 <= W < 30:\n",
        "        return \"Rainy\"\n",
        "    else:\n",
        "        return \"Stormy\"\n",
        "def display_output(prediction):\n",
        "    print(f\"Predicted weather: {prediction}\")\n",
        "def main():\n",
        "    location, temperature, humidity, wind_speed = get_weather_data()\n",
        "    temperature, humidity, wind_speed = preprocess_data(temperature, humidity, wind_speed)\n",
        "    W = model_processor(temperature, humidity, wind_speed)\n",
        "    prediction = prediction_engine(W)\n",
        "    display_output(prediction)\n",
        "if __name__ == \"__main__\":\n",
        "    main()\n"
      ]
    },
    {
      "cell_type": "code",
      "source": [
        "#single input\n",
        "def calculate_weather_index(t, h):\n",
        "    return (0.5 * t**2 - 0.2 * h - 15) / 0.9\n",
        "\n",
        "filename = 'single_input_weather.txt'\n",
        "\n",
        "try:\n",
        "    with open(filename, 'r') as file:\n",
        "        line = file.readline().strip()\n",
        "        t, h = map(float, line.split())\n",
        "        w = calculate_weather_index(t, h)\n",
        "        print(\"\\nUsing the formula:\")\n",
        "        print(\"w = (0.5 * t^2 - 0.2 * h - 15) / 0.9\")\n",
        "        print(f\"File input -> Temperature: {t}, Humidity: {h}, Weather Index: {w:.2f}\")\n",
        "except Exception as e:\n",
        "    print(f\"Error reading the file: {e}\")\n"
      ],
      "metadata": {
        "colab": {
          "base_uri": "https://localhost:8080/"
        },
        "id": "BRDFiIGgqdwH",
        "outputId": "129c8c4b-b320-4ce1-96c8-39db7c4f1729"
      },
      "execution_count": 3,
      "outputs": [
        {
          "output_type": "stream",
          "name": "stdout",
          "text": [
            "\n",
            "Using the formula:\n",
            "w = (0.5 * t^2 - 0.2 * h - 15) / 0.9\n",
            "File input -> Temperature: 100.0, Humidity: 80.0, Weather Index: 5521.11\n"
          ]
        }
      ]
    },
    {
      "cell_type": "code",
      "source": [
        "#keyboard input\n",
        "def calculate_w(t, h):\n",
        "    return (0.5 * t**2 - 0.2 * h - 15) / 0.9\n",
        "\n",
        "def main():\n",
        "    print(\"\\nUsing the formula:\")\n",
        "    print(\"w = (0.5 * t^2 - 0.2 * h - 15) / 0.9\")\n",
        "\n",
        "    while True:\n",
        "        try:\n",
        "            temperature = float(input(\"Enter temperature in °C: \"))\n",
        "            humidity = float(input(\"Enter humidity in %: \"))\n",
        "            if 0 <= humidity <= 100:\n",
        "                break\n",
        "            else:\n",
        "                print(\"Humidity must be between 0% and 100%.\")\n",
        "        except ValueError:\n",
        "            print(\"Invalid input. Please enter a number.\")\n",
        "\n",
        "    w = calculate_w(temperature, humidity)\n",
        "    print(f\"\\nFor Temperature: {temperature}°C and Humidity: {humidity}%\")\n",
        "    print(f\"Calculated w: {w}\")\n",
        "\n",
        "if __name__ == \"__main__\":\n",
        "    main()"
      ],
      "metadata": {
        "colab": {
          "base_uri": "https://localhost:8080/"
        },
        "id": "b7FlJxPPqplF",
        "outputId": "87766ba1-cf9f-4ca2-dbf0-2d676f7ea874"
      },
      "execution_count": 4,
      "outputs": [
        {
          "output_type": "stream",
          "name": "stdout",
          "text": [
            "\n",
            "Using the formula:\n",
            "w = (0.5 * t^2 - 0.2 * h - 15) / 0.9\n",
            "Enter temperature in °C: 12\n",
            "Enter humidity in %: 10\n",
            "\n",
            "For Temperature: 12.0°C and Humidity: 10.0%\n",
            "Calculated w: 61.11111111111111\n"
          ]
        }
      ]
    },
    {
      "cell_type": "code",
      "source": [
        "#multiple input\n",
        "def calculate_weather_index(t, h):\n",
        "\n",
        "    return (0.5 * t**2 - 0.2 * h - 15) / 0.9\n",
        "\n",
        "\n",
        "def multiple_inputs_file_solution(filename):\n",
        "    try:\n",
        "        with open(filename, 'r') as file:\n",
        "            print(\"\\nMultiple Inputs from File:\")\n",
        "            for i, line in enumerate(file, start=1):\n",
        "                line = line.strip()\n",
        "                if not line:\n",
        "                    continue\n",
        "                t, h = map(float, line.split())\n",
        "                w = calculate_weather_index(t, h)\n",
        "                print(f\"Temperature: {t}, Humidity: {h}, Weather Index: {w:.2f}\")\n",
        "    except Exception as e:\n",
        "        print(f\"Error reading the file: {e}\")\n",
        "\n",
        "\n",
        "filename = 'multiple_inputs_weather.txt'\n",
        "multiple_inputs_file_solution(filename)"
      ],
      "metadata": {
        "colab": {
          "base_uri": "https://localhost:8080/"
        },
        "id": "PSL5ivuTqv0E",
        "outputId": "e986af6d-df0f-42f6-f4d8-304d8a41163b"
      },
      "execution_count": 5,
      "outputs": [
        {
          "output_type": "stream",
          "name": "stdout",
          "text": [
            "\n",
            "Multiple Inputs from File:\n",
            "Temperature: 25.0, Humidity: 60.0, Weather Index: 317.22\n",
            "Temperature: 30.0, Humidity: 55.0, Weather Index: 471.11\n",
            "Temperature: 20.0, Humidity: 70.0, Weather Index: 190.00\n"
          ]
        }
      ]
    }
  ]
}